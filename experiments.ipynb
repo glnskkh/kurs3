{
 "cells": [
  {
   "cell_type": "code",
   "execution_count": 10,
   "id": "5bcd98d7-3159-4fec-94ba-d54feab78941",
   "metadata": {},
   "outputs": [],
   "source": [
    "from framework import *\n",
    "\n",
    "\n",
    "def distrib_check(a: Partition, b: Partition, c: Partition) -> bool:\n",
    "    return (a + b) * c == a * c + b * c\n",
    "\n",
    "\n",
    "def addition_saves_distrib(x: Partition, elements: list[Partition]):\n",
    "    for a in elements:\n",
    "        for b in elements:\n",
    "            if not distrib_check(x, a, b):\n",
    "                return False\n",
    "                \n",
    "    for a in elements:\n",
    "        for b in elements:\n",
    "            if not distrib_check(a, b, x):\n",
    "                return False\n",
    "\n",
    "    return True\n",
    "\n",
    "\n",
    "def semiring(base: list[Partition], extensions: list[Partition]):\n",
    "    elements = set(base + extensions)\n",
    "\n",
    "    result = []\n",
    "\n",
    "    for element in elements:\n",
    "        if addition_saves_distrib(element, result):\n",
    "            result.append(element)\n",
    "\n",
    "    return result"
   ]
  },
  {
   "cell_type": "code",
   "execution_count": 11,
   "id": "1fce13d3-52c4-44ae-9ca2-f5598ced46b4",
   "metadata": {},
   "outputs": [
    {
     "data": {
      "text/plain": [
       "[Partition(size=2, repr=(0, 1, 2, 1), components=3),\n",
       " Partition(size=2, repr=(0, 1, 2, 0), components=3),\n",
       " Partition(size=2, repr=(0, 1, 1, 2), components=3),\n",
       " Partition(size=2, repr=(0, 0, 1, 2), components=3),\n",
       " Partition(size=2, repr=(0, 1, 0, 0), components=2),\n",
       " Partition(size=2, repr=(0, 0, 1, 1), components=2),\n",
       " Partition(size=2, repr=(0, 1, 0, 2), components=3),\n",
       " Partition(size=2, repr=(0, 1, 1, 1), components=2),\n",
       " Partition(size=2, repr=(0, 1, 2, 3), components=4),\n",
       " Partition(size=2, repr=(0, 1, 2, 2), components=3)]"
      ]
     },
     "execution_count": 11,
     "metadata": {},
     "output_type": "execute_result"
    }
   ],
   "source": [
    "total_elements = generate_partitions_given_size(2)\n",
    "\n",
    "semiring([], total_elements)"
   ]
  },
  {
   "cell_type": "code",
   "execution_count": null,
   "id": "a87d002f-a554-4a42-a131-33a1de7018b7",
   "metadata": {},
   "outputs": [],
   "source": []
  }
 ],
 "metadata": {
  "kernelspec": {
   "display_name": "Python 3 (ipykernel)",
   "language": "python",
   "name": "python3"
  },
  "language_info": {
   "codemirror_mode": {
    "name": "ipython",
    "version": 3
   },
   "file_extension": ".py",
   "mimetype": "text/x-python",
   "name": "python",
   "nbconvert_exporter": "python",
   "pygments_lexer": "ipython3",
   "version": "3.12.7"
  }
 },
 "nbformat": 4,
 "nbformat_minor": 5
}
